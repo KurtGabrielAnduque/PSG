{
 "cells": [
  {
   "cell_type": "markdown",
   "id": "afa10d27-59ca-495d-98f4-3b1c2c1d9c97",
   "metadata": {},
   "source": [
    "<font size = 5><b>Hands-on Activity 6.1 Introduction to Data Analysis and Tools</b></font>"
   ]
  },
  {
   "cell_type": "markdown",
   "id": "2722506c-4fc4-456f-ab0b-ba5357446019",
   "metadata": {},
   "source": [
    " <b>CPE311 Computational Thinking with Python</b>\n",
    " <br>\n",
    " Name: Anduque, Kurt Gabriel\n",
    " <br>\n",
    " Section: CPE22S3\n",
    " <br>\n",
    " Performed on: 04/05/2005\n",
    " <br>\n",
    " Submitted on: 04/05/2005\n",
    " <br>\n",
    " Submitted to: Engr. Roman M. Richard"
   ]
  },
  {
   "cell_type": "markdown",
   "id": "35a83952-98b3-42b7-b23a-c0d0559d3ac6",
   "metadata": {},
   "source": [
    "<font size =5><b> 6.1 Intended Learning Outcome</b></font>"
   ]
  },
  {
   "cell_type": "markdown",
   "id": "ebefc584-6f0d-42ca-9730-b47978c1be76",
   "metadata": {},
   "source": [
    "1. Use pandas and numpy data analysis tools.\n",
    "2. Demonstrate how to analyze data using numpy and pandas"
   ]
  },
  {
   "cell_type": "markdown",
   "id": "7013fe24-1fea-4f22-94a9-1adc17da27ef",
   "metadata": {},
   "source": [
    "<font size =5><b>6.2 Resources:</b></font>"
   ]
  },
  {
   "cell_type": "markdown",
   "id": "ec56b278-fe83-4c16-946f-e570e1eef45e",
   "metadata": {},
   "source": [
    "- Personal Computer\n",
    "- Jupyter Notebook\n",
    "- Internet Connection"
   ]
  },
  {
   "cell_type": "markdown",
   "id": "04befc6f-e77e-49f6-8e8b-75f2eced8658",
   "metadata": {},
   "source": [
    "<font size = 5><b>6.3 Supplementary Activities:</b></font>"
   ]
  },
  {
   "cell_type": "markdown",
   "id": "60a4099c-af0d-4003-8506-33721f68673f",
   "metadata": {},
   "source": [
    " <font size = 6><b>Exercise 1</b></font>\n",
    " <br>\n",
    " Run the given code below for exercises 1 and 2, perform the given tasks without using any Python modules."
   ]
  },
  {
   "cell_type": "code",
   "execution_count": 42,
   "id": "79d49368-0ba2-46d7-817d-ea015bd95ac9",
   "metadata": {},
   "outputs": [],
   "source": [
    "import random\n",
    "import statistics\n",
    "random.seed(0)\n",
    "salaries = [round(random.random()*1000000, -3) for _ in range(100)]"
   ]
  },
  {
   "cell_type": "markdown",
   "id": "e1520925-76fd-4231-8ec8-e41b564e1e95",
   "metadata": {},
   "source": [
    "Using the data generated above, calculate the following statistics without importing anything from the statistics module in the\n",
    " standard library (https://docs.python.org/3/library/statistics.html) and then confirm your results match up to those that are\n",
    " obtained when using the statistics module (where possible):\n",
    " - Mean\n",
    " - Median\n",
    " - Mode \n",
    " - Sample variance\n",
    " - Sample standard deviation\n",
    "<br>\n",
    "(hint: check out the Counter in the collections module of the standard library at\n",
    "<a href=\"url\">https://docs.python.org/3/library/collections.html#collections.Counter</a>\n"
   ]
  },
  {
   "cell_type": "markdown",
   "id": "aaea0085-bee5-41f6-b2bf-aff9c4c4ee83",
   "metadata": {},
   "source": [
    "<font size = 4><b>FINDING MEAN</b></font>"
   ]
  },
  {
   "cell_type": "code",
   "execution_count": 216,
   "id": "62039e87-1103-4752-82a2-4dab28229470",
   "metadata": {},
   "outputs": [
    {
     "name": "stdout",
     "output_type": "stream",
     "text": [
      "mean: 585690.0 \n"
     ]
    }
   ],
   "source": [
    "# MEAN without statistics import\n",
    "print(f'mean: {sum(salaries)/len(salaries)} ')"
   ]
  },
  {
   "cell_type": "code",
   "execution_count": 214,
   "id": "bea0e188-3fec-4aa4-a6e5-4482653e5c29",
   "metadata": {},
   "outputs": [
    {
     "name": "stdout",
     "output_type": "stream",
     "text": [
      "mean: 585690.0\n"
     ]
    }
   ],
   "source": [
    "# MEAN with statistics import\n",
    "print(f'mean: {statistics.mean(salaries)}')"
   ]
  },
  {
   "cell_type": "markdown",
   "id": "664d033b-30bc-4bb1-a0e9-0cb974e81131",
   "metadata": {},
   "source": [
    "<font size = 4><b>FINDING MEDIAN</b></font>"
   ]
  },
  {
   "cell_type": "code",
   "execution_count": 210,
   "id": "c65a9cb4-ea24-4fd0-abf0-b8de07f546e1",
   "metadata": {},
   "outputs": [
    {
     "name": "stdout",
     "output_type": "stream",
     "text": [
      "median: 589000.0\n"
     ]
    }
   ],
   "source": [
    "#MEDIAN if not using module\n",
    "\n",
    "# since the n of salaries is 100 or even we must use the formula ((n/2) + (n/2)+1)/2)\n",
    "# additionally we always minus 1 since indexing starts at 0\n",
    "pos50 = salaries[int(len(salaries)/2) - 1]\n",
    "pos51 = salaries[int((len(salaries)/2) + 1) - 1]\n",
    "\n",
    "median = (pos50 + pos51)/2\n",
    "print(f'median: {median}')"
   ]
  },
  {
   "cell_type": "code",
   "execution_count": 208,
   "id": "b55a9c44-4692-4920-9b69-2fc19a9b2c4f",
   "metadata": {},
   "outputs": [
    {
     "name": "stdout",
     "output_type": "stream",
     "text": [
      "median: 589000.0\n"
     ]
    }
   ],
   "source": [
    "# median if using the statistics module\n",
    "print(f'median: {statistics.median(salaries)}')"
   ]
  },
  {
   "cell_type": "markdown",
   "id": "4ef22dba-3400-41b9-bd63-716ed9946b03",
   "metadata": {},
   "source": [
    "<font size = 4><b>FINDING MODE</b></font>"
   ]
  },
  {
   "cell_type": "code",
   "execution_count": 175,
   "id": "b00981b7-4034-4805-862c-a18a52669902",
   "metadata": {},
   "outputs": [
    {
     "data": {
      "text/plain": [
       "[(477000.0, 3)]"
      ]
     },
     "execution_count": 175,
     "metadata": {},
     "output_type": "execute_result"
    }
   ],
   "source": [
    "# MODE without using statistics import\n",
    "import collections\n",
    "\n",
    "collections.Counter(salaries).most_common(1)\n",
    "# since we are only concerned with the value of the most common\n",
    "# we will use indexing since its a tuple inside the list."
   ]
  },
  {
   "cell_type": "code",
   "execution_count": 204,
   "id": "a145072d-cf52-405a-9272-545e8475a184",
   "metadata": {},
   "outputs": [
    {
     "name": "stdout",
     "output_type": "stream",
     "text": [
      "mode: 477000.0\n"
     ]
    }
   ],
   "source": [
    "print(f'mode: {collections.Counter(salaries).most_common(1)[0][0]}')\n",
    "# base on the output they are the same"
   ]
  },
  {
   "cell_type": "code",
   "execution_count": 202,
   "id": "f0782d34-080f-48e1-bf79-890815f2a58b",
   "metadata": {},
   "outputs": [
    {
     "name": "stdout",
     "output_type": "stream",
     "text": [
      "mode: 477000.0\n"
     ]
    }
   ],
   "source": [
    "# MODE with statistics import\n",
    "print(f'mode: {statistics.mode(salaries)}')"
   ]
  },
  {
   "cell_type": "markdown",
   "id": "4b540aa7-5fc8-4bee-80a0-ef9211fec8aa",
   "metadata": {},
   "source": [
    "<font size = 4><b>Sample variance</b></font>"
   ]
  },
  {
   "cell_type": "markdown",
   "id": "3b4f2801-cb77-46fa-ab4b-eb3d9d6685b2",
   "metadata": {},
   "source": [
    "<font size = 3><b>FORMULA FOR Sample variance</b></font>"
   ]
  },
  {
   "cell_type": "markdown",
   "id": "a7cf4913-a5b8-4764-8b20-1d3f3aaa300a",
   "metadata": {},
   "source": [
    "<img src = \"samplevariance.png\" style =\"width:350px;height:224px\">"
   ]
  },
  {
   "cell_type": "code",
   "execution_count": 254,
   "id": "87ddf742-00c9-450b-a256-d57c4d6c6d4c",
   "metadata": {},
   "outputs": [
    {
     "name": "stdout",
     "output_type": "stream",
     "text": [
      "variance: 70664054444.44444\n"
     ]
    }
   ],
   "source": [
    "# SAMPLE VARIANCE without statistics import\n",
    "# Calculate the mean\n",
    "# every data minus mean\n",
    "# square every data - mean\n",
    "# sum the recent list\n",
    "# divide by n - 1\n",
    "\n",
    "def findmean(salaries):\n",
    "    mean = sum(salaries)/len(salaries)\n",
    "    return mean\n",
    "\n",
    "def data_minus_mean(salaries):\n",
    "    new_list = []\n",
    "    mean = findmean(salaries)\n",
    "    \n",
    "    for salary in salaries:\n",
    "        new_list.append(salary - mean)\n",
    "\n",
    "    return new_list\n",
    "\n",
    "def square_data(salaries):\n",
    "    datas = data_minus_mean(salaries)\n",
    "    square_list = []\n",
    "    for data in datas:\n",
    "        square_list.append(data**2)\n",
    "\n",
    "    return square_list\n",
    "    \n",
    "def calculate_variance(salaries):\n",
    "    summation = sum(square_data(salaries))\n",
    "    variance = summation/(len(salaries) - 1)\n",
    "\n",
    "    return variance\n",
    "    \n",
    "calc_variance = calculate_variance(salaries)\n",
    "print(f'variance: {calc_variance}')"
   ]
  },
  {
   "cell_type": "code",
   "execution_count": 256,
   "id": "31a7e0b1-48cc-4c6d-a4cb-a732e1984a8b",
   "metadata": {},
   "outputs": [
    {
     "name": "stdout",
     "output_type": "stream",
     "text": [
      "variance: 70664054444.44444\n"
     ]
    }
   ],
   "source": [
    "# SAMPLE VARIANCE with statistics import\n",
    "print(f'variance: {statistics.variance(salaries)}')"
   ]
  },
  {
   "cell_type": "markdown",
   "id": "81ffa1af-5acd-4919-b0a5-ef35908af393",
   "metadata": {},
   "source": [
    "<font size = 4><b>FINDING Sample standard deviation</b></font>"
   ]
  },
  {
   "cell_type": "code",
   "execution_count": 224,
   "id": "fd1602b5-ccc7-4253-8505-8d443d129d27",
   "metadata": {},
   "outputs": [
    {
     "name": "stdout",
     "output_type": "stream",
     "text": [
      "standard deviation: 265827.11382484\n"
     ]
    }
   ],
   "source": [
    "# Sample standard deviation without statistics import\n",
    "\n",
    "# in the standard deviation we are only doing the squareroot of the variance\n",
    "# since we already find the variance recently we are just  going to use it again\n",
    "variance = calc_variance\n",
    "standard_deviation = variance**0.5\n",
    "print(f'standard deviation: {standard_deviation}')"
   ]
  },
  {
   "cell_type": "code",
   "execution_count": 222,
   "id": "d78fd31d-4bca-4253-8a21-bdd5904d8d54",
   "metadata": {},
   "outputs": [
    {
     "name": "stdout",
     "output_type": "stream",
     "text": [
      "standard deviation: 265827.11382484\n"
     ]
    }
   ],
   "source": [
    "# Sample standard deviation with statistics import\n",
    "print(f'standard deviation: {statistics.stdev(salaries)}')"
   ]
  },
  {
   "cell_type": "markdown",
   "id": "1dd030c9-7141-4962-be07-f4d48fce72b3",
   "metadata": {},
   "source": [
    " <font size = 6><b>Exercise 2</b></font>\n",
    " <br>\n",
    " Using the same data, calculate the following statistics using the functions in the statistics module where appropriate:"
   ]
  },
  {
   "cell_type": "code",
   "execution_count": 246,
   "id": "a672fa23-2bf1-4090-9bd2-7e608a6f2dc3",
   "metadata": {},
   "outputs": [],
   "source": [
    "import random\n",
    "import statistics\n",
    "random.seed(0)\n",
    "salaries = [round(random.random()*1000000, -3) for _ in range(100)]"
   ]
  },
  {
   "cell_type": "markdown",
   "id": "4fe6038c-9c74-4bbf-a1b2-a49ad9eca946",
   "metadata": {},
   "source": [
    "- Range\n",
    "- Coefficient of variation\n",
    "- Interquartile range\n",
    "- Quartile coefficient of dispersion"
   ]
  },
  {
   "cell_type": "markdown",
   "id": "78fb2159-0c6c-416f-bb2d-b1974efffc8d",
   "metadata": {},
   "source": [
    "<font size = 4><b>FINDING RANGE</b></font>"
   ]
  },
  {
   "cell_type": "code",
   "execution_count": 250,
   "id": "86fcd64b-cf50-45b5-95d0-f7e25d812d06",
   "metadata": {},
   "outputs": [
    {
     "name": "stdout",
     "output_type": "stream",
     "text": [
      "range: 995000.0\n"
     ]
    }
   ],
   "source": [
    "# range fomula  = max(x) - min(x)\n",
    "\n",
    "rangef = max(salaries) - min(salaries)\n",
    "print(f'range: {rangef}')"
   ]
  },
  {
   "cell_type": "markdown",
   "id": "b7eb861c-42b3-4289-a53b-c00a0af7ae9e",
   "metadata": {},
   "source": [
    "<font size =4><b>FINDING Coefficient of variation</b></font>"
   ]
  },
  {
   "cell_type": "code",
   "execution_count": 298,
   "id": "3e55fac7-8957-4e01-b29b-25e8ce187390",
   "metadata": {},
   "outputs": [
    {
     "name": "stdout",
     "output_type": "stream",
     "text": [
      "Coefficient of variation: 45.38699889443903\n"
     ]
    }
   ],
   "source": [
    "# Coefficient of variation formula = (standard deviation / Sample mean) * 100\n",
    "\n",
    "standard_deviation = statistics.stdev(salaries)\n",
    "salary_mean = statistics.mean(salaries)\n",
    "\n",
    "Coe_var = (standard_deviation / salary_mean) * 100\n",
    "print(f'Coefficient of variation: {Coe_var}')"
   ]
  },
  {
   "cell_type": "markdown",
   "id": "29444c82-4f99-4b29-9491-58a4f37fd0a6",
   "metadata": {},
   "source": [
    "<font size = 4><b>FINDING Interquartile range</b></font>"
   ]
  },
  {
   "cell_type": "code",
   "execution_count": 291,
   "id": "665ca206-bd49-4e2b-8dc7-47ef8ee714ce",
   "metadata": {},
   "outputs": [
    {
     "data": {
      "text/plain": [
       "[403500.0, 589000.0, 816750.0]"
      ]
     },
     "execution_count": 291,
     "metadata": {},
     "output_type": "execute_result"
    }
   ],
   "source": [
    "quartiles = statistics.quantiles(salaries, n = 4, method = 'inclusive')\n",
    "quartiles\n",
    "# here we notice that in the method we use the inclusive instead of exclusive\n",
    "# since we want to include the first data and the last data in our calculation\n",
    "# we can also observe that the output is in list type so we need to create 3 variable to get each data"
   ]
  },
  {
   "cell_type": "code",
   "execution_count": 293,
   "id": "7376a02f-d3f8-4e9c-b575-ab6464cc2366",
   "metadata": {},
   "outputs": [
    {
     "name": "stdout",
     "output_type": "stream",
     "text": [
      "Interquartile range: 413250.0\n"
     ]
    }
   ],
   "source": [
    "quart1,quart2,quart3 = statistics.quantiles(salaries, n = 4, method = 'inclusive')\n",
    "IQR = quart3 - quart1\n",
    "print(f'Interquartile range: {IQR}')"
   ]
  },
  {
   "cell_type": "markdown",
   "id": "e50126c0-ca66-4253-892f-9f73fff8f3a0",
   "metadata": {},
   "source": [
    "<font size = 4><b>Quartile coefficient of dispersion</b></font>"
   ]
  },
  {
   "cell_type": "code",
   "execution_count": 304,
   "id": "cbd1d299-ad70-49d7-919a-229bf37bcd51",
   "metadata": {},
   "outputs": [
    {
     "name": "stdout",
     "output_type": "stream",
     "text": [
      "Quartile coefficient of dispersion: 0.338660110633067\n"
     ]
    }
   ],
   "source": [
    "# Formula for Quartile coefficient of dispersion = (Q1 - Q3)/(Q1 + Q3)\n",
    "\n",
    "quart1,quart2,quart3 = statistics.quantiles(salaries, n = 4, method = 'inclusive')\n",
    "QCD = (quart3 - quart1)/(quart1 + quart3)\n",
    "print(f'Quartile coefficient of dispersion: {QCD}')"
   ]
  },
  {
   "cell_type": "markdown",
   "id": "f714f712-3b1f-4c4b-8a2b-d660042e6adb",
   "metadata": {},
   "source": [
    " <font size = 6><b>Exercise 3: Pandas for Data Analysis</b></font>\n",
    " <br>\n",
    " Load the diabetes.csv file. Convert the diabetes.csv into dataframe"
   ]
  },
  {
   "cell_type": "markdown",
   "id": "a11be3dd-fc8a-4393-a85c-8d62c542f0ac",
   "metadata": {},
   "source": [
    "Perform the following tasks in the diabetes dataframe:\n",
    "- Identify the column names\n",
    "- Identify the data types of the data\n",
    "- Display the total number of records\n",
    "- Display the first 20 records\n",
    "- Display the last 20 records\n",
    "- Change the Outcome column to Diagnosis\n",
    "- Create a new column Classification that display \"Diabetes\" if the value of outcome is 1 , otherwise \"No Diabetes\"\n",
    "- Create a new dataframe \"withDiabetes\" that gathers data with diabetes\n",
    "- Create a new dataframe \"noDiabetes\" thats gathers data with no diabetes\n",
    "- Create a new dataframe \"Pedia\" that gathers data with age 0 to 19\n",
    "- Create a new dataframe \"Adult\" that gathers data with age greater than 19\n",
    "- Use numpy to get the average age and glucose value.\n",
    "- Use numpy to get the median age and glucose value.\n",
    "- Use numpy to get the middle values of glucose and age.\n",
    "- Use numpy to get the standard deviation of the skinthickness."
   ]
  },
  {
   "cell_type": "code",
   "execution_count": 512,
   "id": "8fb6f1fb-04c7-4b80-8ee0-fb83d1d25fa8",
   "metadata": {},
   "outputs": [],
   "source": [
    "import pandas as pd\n",
    "import numpy as np\n",
    "\n",
    "df = pd.read_csv('diabetes.csv')"
   ]
  },
  {
   "cell_type": "code",
   "execution_count": 514,
   "id": "696ee0b2-e156-43fd-8dbd-41ea660bf1fb",
   "metadata": {},
   "outputs": [
    {
     "data": {
      "text/plain": [
       "Index(['Pregnancies', 'Glucose', 'BloodPressure', 'SkinThickness', 'Insulin',\n",
       "       'BMI', 'DiabetesPedigreeFunction', 'Age', 'Outcome'],\n",
       "      dtype='object')"
      ]
     },
     "execution_count": 514,
     "metadata": {},
     "output_type": "execute_result"
    }
   ],
   "source": [
    "# Identify the column names\n",
    "# to check for the columns we need to use the columns pandas function\n",
    "df.columns"
   ]
  },
  {
   "cell_type": "code",
   "execution_count": 516,
   "id": "ad299ebd-9e93-4885-8299-52dc4db8ed6f",
   "metadata": {},
   "outputs": [
    {
     "data": {
      "text/plain": [
       "Pregnancies                   int64\n",
       "Glucose                       int64\n",
       "BloodPressure                 int64\n",
       "SkinThickness                 int64\n",
       "Insulin                       int64\n",
       "BMI                         float64\n",
       "DiabetesPedigreeFunction    float64\n",
       "Age                           int64\n",
       "Outcome                       int64\n",
       "dtype: object"
      ]
     },
     "execution_count": 516,
     "metadata": {},
     "output_type": "execute_result"
    }
   ],
   "source": [
    "# Identify the column names\n",
    "# here we use the dtypes function for us to identify the datatype of every columns\n",
    "df.dtypes"
   ]
  },
  {
   "cell_type": "code",
   "execution_count": 518,
   "id": "64606a18-8fd6-4c11-bf02-2280b0856f7b",
   "metadata": {},
   "outputs": [
    {
     "data": {
      "text/plain": [
       "768"
      ]
     },
     "execution_count": 518,
     "metadata": {},
     "output_type": "execute_result"
    }
   ],
   "source": [
    "# Display the total number of records\n",
    "# since we are only concerned with the rows since we want to know the total number of record\n",
    "# when we are using the shape function the output will be (rows, columns)\n",
    "# we use indexing to get the rows only\n",
    "df.shape[0]"
   ]
  },
  {
   "cell_type": "code",
   "execution_count": 520,
   "id": "5d4da595-5c29-418e-b4f0-9f981a0bcd8b",
   "metadata": {},
   "outputs": [
    {
     "data": {
      "text/html": [
       "<div>\n",
       "<style scoped>\n",
       "    .dataframe tbody tr th:only-of-type {\n",
       "        vertical-align: middle;\n",
       "    }\n",
       "\n",
       "    .dataframe tbody tr th {\n",
       "        vertical-align: top;\n",
       "    }\n",
       "\n",
       "    .dataframe thead th {\n",
       "        text-align: right;\n",
       "    }\n",
       "</style>\n",
       "<table border=\"1\" class=\"dataframe\">\n",
       "  <thead>\n",
       "    <tr style=\"text-align: right;\">\n",
       "      <th></th>\n",
       "      <th>Pregnancies</th>\n",
       "      <th>Glucose</th>\n",
       "      <th>BloodPressure</th>\n",
       "      <th>SkinThickness</th>\n",
       "      <th>Insulin</th>\n",
       "      <th>BMI</th>\n",
       "      <th>DiabetesPedigreeFunction</th>\n",
       "      <th>Age</th>\n",
       "      <th>Outcome</th>\n",
       "    </tr>\n",
       "  </thead>\n",
       "  <tbody>\n",
       "    <tr>\n",
       "      <th>0</th>\n",
       "      <td>6</td>\n",
       "      <td>148</td>\n",
       "      <td>72</td>\n",
       "      <td>35</td>\n",
       "      <td>0</td>\n",
       "      <td>33.6</td>\n",
       "      <td>0.627</td>\n",
       "      <td>50</td>\n",
       "      <td>1</td>\n",
       "    </tr>\n",
       "    <tr>\n",
       "      <th>1</th>\n",
       "      <td>1</td>\n",
       "      <td>85</td>\n",
       "      <td>66</td>\n",
       "      <td>29</td>\n",
       "      <td>0</td>\n",
       "      <td>26.6</td>\n",
       "      <td>0.351</td>\n",
       "      <td>31</td>\n",
       "      <td>0</td>\n",
       "    </tr>\n",
       "    <tr>\n",
       "      <th>2</th>\n",
       "      <td>8</td>\n",
       "      <td>183</td>\n",
       "      <td>64</td>\n",
       "      <td>0</td>\n",
       "      <td>0</td>\n",
       "      <td>23.3</td>\n",
       "      <td>0.672</td>\n",
       "      <td>32</td>\n",
       "      <td>1</td>\n",
       "    </tr>\n",
       "    <tr>\n",
       "      <th>3</th>\n",
       "      <td>1</td>\n",
       "      <td>89</td>\n",
       "      <td>66</td>\n",
       "      <td>23</td>\n",
       "      <td>94</td>\n",
       "      <td>28.1</td>\n",
       "      <td>0.167</td>\n",
       "      <td>21</td>\n",
       "      <td>0</td>\n",
       "    </tr>\n",
       "    <tr>\n",
       "      <th>4</th>\n",
       "      <td>0</td>\n",
       "      <td>137</td>\n",
       "      <td>40</td>\n",
       "      <td>35</td>\n",
       "      <td>168</td>\n",
       "      <td>43.1</td>\n",
       "      <td>2.288</td>\n",
       "      <td>33</td>\n",
       "      <td>1</td>\n",
       "    </tr>\n",
       "    <tr>\n",
       "      <th>5</th>\n",
       "      <td>5</td>\n",
       "      <td>116</td>\n",
       "      <td>74</td>\n",
       "      <td>0</td>\n",
       "      <td>0</td>\n",
       "      <td>25.6</td>\n",
       "      <td>0.201</td>\n",
       "      <td>30</td>\n",
       "      <td>0</td>\n",
       "    </tr>\n",
       "    <tr>\n",
       "      <th>6</th>\n",
       "      <td>3</td>\n",
       "      <td>78</td>\n",
       "      <td>50</td>\n",
       "      <td>32</td>\n",
       "      <td>88</td>\n",
       "      <td>31.0</td>\n",
       "      <td>0.248</td>\n",
       "      <td>26</td>\n",
       "      <td>1</td>\n",
       "    </tr>\n",
       "    <tr>\n",
       "      <th>7</th>\n",
       "      <td>10</td>\n",
       "      <td>115</td>\n",
       "      <td>0</td>\n",
       "      <td>0</td>\n",
       "      <td>0</td>\n",
       "      <td>35.3</td>\n",
       "      <td>0.134</td>\n",
       "      <td>29</td>\n",
       "      <td>0</td>\n",
       "    </tr>\n",
       "    <tr>\n",
       "      <th>8</th>\n",
       "      <td>2</td>\n",
       "      <td>197</td>\n",
       "      <td>70</td>\n",
       "      <td>45</td>\n",
       "      <td>543</td>\n",
       "      <td>30.5</td>\n",
       "      <td>0.158</td>\n",
       "      <td>53</td>\n",
       "      <td>1</td>\n",
       "    </tr>\n",
       "    <tr>\n",
       "      <th>9</th>\n",
       "      <td>8</td>\n",
       "      <td>125</td>\n",
       "      <td>96</td>\n",
       "      <td>0</td>\n",
       "      <td>0</td>\n",
       "      <td>0.0</td>\n",
       "      <td>0.232</td>\n",
       "      <td>54</td>\n",
       "      <td>1</td>\n",
       "    </tr>\n",
       "    <tr>\n",
       "      <th>10</th>\n",
       "      <td>4</td>\n",
       "      <td>110</td>\n",
       "      <td>92</td>\n",
       "      <td>0</td>\n",
       "      <td>0</td>\n",
       "      <td>37.6</td>\n",
       "      <td>0.191</td>\n",
       "      <td>30</td>\n",
       "      <td>0</td>\n",
       "    </tr>\n",
       "    <tr>\n",
       "      <th>11</th>\n",
       "      <td>10</td>\n",
       "      <td>168</td>\n",
       "      <td>74</td>\n",
       "      <td>0</td>\n",
       "      <td>0</td>\n",
       "      <td>38.0</td>\n",
       "      <td>0.537</td>\n",
       "      <td>34</td>\n",
       "      <td>1</td>\n",
       "    </tr>\n",
       "    <tr>\n",
       "      <th>12</th>\n",
       "      <td>10</td>\n",
       "      <td>139</td>\n",
       "      <td>80</td>\n",
       "      <td>0</td>\n",
       "      <td>0</td>\n",
       "      <td>27.1</td>\n",
       "      <td>1.441</td>\n",
       "      <td>57</td>\n",
       "      <td>0</td>\n",
       "    </tr>\n",
       "    <tr>\n",
       "      <th>13</th>\n",
       "      <td>1</td>\n",
       "      <td>189</td>\n",
       "      <td>60</td>\n",
       "      <td>23</td>\n",
       "      <td>846</td>\n",
       "      <td>30.1</td>\n",
       "      <td>0.398</td>\n",
       "      <td>59</td>\n",
       "      <td>1</td>\n",
       "    </tr>\n",
       "    <tr>\n",
       "      <th>14</th>\n",
       "      <td>5</td>\n",
       "      <td>166</td>\n",
       "      <td>72</td>\n",
       "      <td>19</td>\n",
       "      <td>175</td>\n",
       "      <td>25.8</td>\n",
       "      <td>0.587</td>\n",
       "      <td>51</td>\n",
       "      <td>1</td>\n",
       "    </tr>\n",
       "    <tr>\n",
       "      <th>15</th>\n",
       "      <td>7</td>\n",
       "      <td>100</td>\n",
       "      <td>0</td>\n",
       "      <td>0</td>\n",
       "      <td>0</td>\n",
       "      <td>30.0</td>\n",
       "      <td>0.484</td>\n",
       "      <td>32</td>\n",
       "      <td>1</td>\n",
       "    </tr>\n",
       "    <tr>\n",
       "      <th>16</th>\n",
       "      <td>0</td>\n",
       "      <td>118</td>\n",
       "      <td>84</td>\n",
       "      <td>47</td>\n",
       "      <td>230</td>\n",
       "      <td>45.8</td>\n",
       "      <td>0.551</td>\n",
       "      <td>31</td>\n",
       "      <td>1</td>\n",
       "    </tr>\n",
       "    <tr>\n",
       "      <th>17</th>\n",
       "      <td>7</td>\n",
       "      <td>107</td>\n",
       "      <td>74</td>\n",
       "      <td>0</td>\n",
       "      <td>0</td>\n",
       "      <td>29.6</td>\n",
       "      <td>0.254</td>\n",
       "      <td>31</td>\n",
       "      <td>1</td>\n",
       "    </tr>\n",
       "    <tr>\n",
       "      <th>18</th>\n",
       "      <td>1</td>\n",
       "      <td>103</td>\n",
       "      <td>30</td>\n",
       "      <td>38</td>\n",
       "      <td>83</td>\n",
       "      <td>43.3</td>\n",
       "      <td>0.183</td>\n",
       "      <td>33</td>\n",
       "      <td>0</td>\n",
       "    </tr>\n",
       "    <tr>\n",
       "      <th>19</th>\n",
       "      <td>1</td>\n",
       "      <td>115</td>\n",
       "      <td>70</td>\n",
       "      <td>30</td>\n",
       "      <td>96</td>\n",
       "      <td>34.6</td>\n",
       "      <td>0.529</td>\n",
       "      <td>32</td>\n",
       "      <td>1</td>\n",
       "    </tr>\n",
       "  </tbody>\n",
       "</table>\n",
       "</div>"
      ],
      "text/plain": [
       "    Pregnancies  Glucose  BloodPressure  SkinThickness  Insulin   BMI  \\\n",
       "0             6      148             72             35        0  33.6   \n",
       "1             1       85             66             29        0  26.6   \n",
       "2             8      183             64              0        0  23.3   \n",
       "3             1       89             66             23       94  28.1   \n",
       "4             0      137             40             35      168  43.1   \n",
       "5             5      116             74              0        0  25.6   \n",
       "6             3       78             50             32       88  31.0   \n",
       "7            10      115              0              0        0  35.3   \n",
       "8             2      197             70             45      543  30.5   \n",
       "9             8      125             96              0        0   0.0   \n",
       "10            4      110             92              0        0  37.6   \n",
       "11           10      168             74              0        0  38.0   \n",
       "12           10      139             80              0        0  27.1   \n",
       "13            1      189             60             23      846  30.1   \n",
       "14            5      166             72             19      175  25.8   \n",
       "15            7      100              0              0        0  30.0   \n",
       "16            0      118             84             47      230  45.8   \n",
       "17            7      107             74              0        0  29.6   \n",
       "18            1      103             30             38       83  43.3   \n",
       "19            1      115             70             30       96  34.6   \n",
       "\n",
       "    DiabetesPedigreeFunction  Age  Outcome  \n",
       "0                      0.627   50        1  \n",
       "1                      0.351   31        0  \n",
       "2                      0.672   32        1  \n",
       "3                      0.167   21        0  \n",
       "4                      2.288   33        1  \n",
       "5                      0.201   30        0  \n",
       "6                      0.248   26        1  \n",
       "7                      0.134   29        0  \n",
       "8                      0.158   53        1  \n",
       "9                      0.232   54        1  \n",
       "10                     0.191   30        0  \n",
       "11                     0.537   34        1  \n",
       "12                     1.441   57        0  \n",
       "13                     0.398   59        1  \n",
       "14                     0.587   51        1  \n",
       "15                     0.484   32        1  \n",
       "16                     0.551   31        1  \n",
       "17                     0.254   31        1  \n",
       "18                     0.183   33        0  \n",
       "19                     0.529   32        1  "
      ]
     },
     "execution_count": 520,
     "metadata": {},
     "output_type": "execute_result"
    }
   ],
   "source": [
    "# Display the first 20 records\n",
    "# the head function is used to get the first five data in our dataframe\n",
    "# sincce we are  tasked to get the first 20 record instead of 5 we make it 20\n",
    "df.head(20)"
   ]
  },
  {
   "cell_type": "code",
   "execution_count": 522,
   "id": "df9904f9-af3e-4b71-9eb0-a753908b7627",
   "metadata": {},
   "outputs": [
    {
     "data": {
      "text/html": [
       "<div>\n",
       "<style scoped>\n",
       "    .dataframe tbody tr th:only-of-type {\n",
       "        vertical-align: middle;\n",
       "    }\n",
       "\n",
       "    .dataframe tbody tr th {\n",
       "        vertical-align: top;\n",
       "    }\n",
       "\n",
       "    .dataframe thead th {\n",
       "        text-align: right;\n",
       "    }\n",
       "</style>\n",
       "<table border=\"1\" class=\"dataframe\">\n",
       "  <thead>\n",
       "    <tr style=\"text-align: right;\">\n",
       "      <th></th>\n",
       "      <th>Pregnancies</th>\n",
       "      <th>Glucose</th>\n",
       "      <th>BloodPressure</th>\n",
       "      <th>SkinThickness</th>\n",
       "      <th>Insulin</th>\n",
       "      <th>BMI</th>\n",
       "      <th>DiabetesPedigreeFunction</th>\n",
       "      <th>Age</th>\n",
       "      <th>Outcome</th>\n",
       "    </tr>\n",
       "  </thead>\n",
       "  <tbody>\n",
       "    <tr>\n",
       "      <th>748</th>\n",
       "      <td>3</td>\n",
       "      <td>187</td>\n",
       "      <td>70</td>\n",
       "      <td>22</td>\n",
       "      <td>200</td>\n",
       "      <td>36.4</td>\n",
       "      <td>0.408</td>\n",
       "      <td>36</td>\n",
       "      <td>1</td>\n",
       "    </tr>\n",
       "    <tr>\n",
       "      <th>749</th>\n",
       "      <td>6</td>\n",
       "      <td>162</td>\n",
       "      <td>62</td>\n",
       "      <td>0</td>\n",
       "      <td>0</td>\n",
       "      <td>24.3</td>\n",
       "      <td>0.178</td>\n",
       "      <td>50</td>\n",
       "      <td>1</td>\n",
       "    </tr>\n",
       "    <tr>\n",
       "      <th>750</th>\n",
       "      <td>4</td>\n",
       "      <td>136</td>\n",
       "      <td>70</td>\n",
       "      <td>0</td>\n",
       "      <td>0</td>\n",
       "      <td>31.2</td>\n",
       "      <td>1.182</td>\n",
       "      <td>22</td>\n",
       "      <td>1</td>\n",
       "    </tr>\n",
       "    <tr>\n",
       "      <th>751</th>\n",
       "      <td>1</td>\n",
       "      <td>121</td>\n",
       "      <td>78</td>\n",
       "      <td>39</td>\n",
       "      <td>74</td>\n",
       "      <td>39.0</td>\n",
       "      <td>0.261</td>\n",
       "      <td>28</td>\n",
       "      <td>0</td>\n",
       "    </tr>\n",
       "    <tr>\n",
       "      <th>752</th>\n",
       "      <td>3</td>\n",
       "      <td>108</td>\n",
       "      <td>62</td>\n",
       "      <td>24</td>\n",
       "      <td>0</td>\n",
       "      <td>26.0</td>\n",
       "      <td>0.223</td>\n",
       "      <td>25</td>\n",
       "      <td>0</td>\n",
       "    </tr>\n",
       "    <tr>\n",
       "      <th>753</th>\n",
       "      <td>0</td>\n",
       "      <td>181</td>\n",
       "      <td>88</td>\n",
       "      <td>44</td>\n",
       "      <td>510</td>\n",
       "      <td>43.3</td>\n",
       "      <td>0.222</td>\n",
       "      <td>26</td>\n",
       "      <td>1</td>\n",
       "    </tr>\n",
       "    <tr>\n",
       "      <th>754</th>\n",
       "      <td>8</td>\n",
       "      <td>154</td>\n",
       "      <td>78</td>\n",
       "      <td>32</td>\n",
       "      <td>0</td>\n",
       "      <td>32.4</td>\n",
       "      <td>0.443</td>\n",
       "      <td>45</td>\n",
       "      <td>1</td>\n",
       "    </tr>\n",
       "    <tr>\n",
       "      <th>755</th>\n",
       "      <td>1</td>\n",
       "      <td>128</td>\n",
       "      <td>88</td>\n",
       "      <td>39</td>\n",
       "      <td>110</td>\n",
       "      <td>36.5</td>\n",
       "      <td>1.057</td>\n",
       "      <td>37</td>\n",
       "      <td>1</td>\n",
       "    </tr>\n",
       "    <tr>\n",
       "      <th>756</th>\n",
       "      <td>7</td>\n",
       "      <td>137</td>\n",
       "      <td>90</td>\n",
       "      <td>41</td>\n",
       "      <td>0</td>\n",
       "      <td>32.0</td>\n",
       "      <td>0.391</td>\n",
       "      <td>39</td>\n",
       "      <td>0</td>\n",
       "    </tr>\n",
       "    <tr>\n",
       "      <th>757</th>\n",
       "      <td>0</td>\n",
       "      <td>123</td>\n",
       "      <td>72</td>\n",
       "      <td>0</td>\n",
       "      <td>0</td>\n",
       "      <td>36.3</td>\n",
       "      <td>0.258</td>\n",
       "      <td>52</td>\n",
       "      <td>1</td>\n",
       "    </tr>\n",
       "    <tr>\n",
       "      <th>758</th>\n",
       "      <td>1</td>\n",
       "      <td>106</td>\n",
       "      <td>76</td>\n",
       "      <td>0</td>\n",
       "      <td>0</td>\n",
       "      <td>37.5</td>\n",
       "      <td>0.197</td>\n",
       "      <td>26</td>\n",
       "      <td>0</td>\n",
       "    </tr>\n",
       "    <tr>\n",
       "      <th>759</th>\n",
       "      <td>6</td>\n",
       "      <td>190</td>\n",
       "      <td>92</td>\n",
       "      <td>0</td>\n",
       "      <td>0</td>\n",
       "      <td>35.5</td>\n",
       "      <td>0.278</td>\n",
       "      <td>66</td>\n",
       "      <td>1</td>\n",
       "    </tr>\n",
       "    <tr>\n",
       "      <th>760</th>\n",
       "      <td>2</td>\n",
       "      <td>88</td>\n",
       "      <td>58</td>\n",
       "      <td>26</td>\n",
       "      <td>16</td>\n",
       "      <td>28.4</td>\n",
       "      <td>0.766</td>\n",
       "      <td>22</td>\n",
       "      <td>0</td>\n",
       "    </tr>\n",
       "    <tr>\n",
       "      <th>761</th>\n",
       "      <td>9</td>\n",
       "      <td>170</td>\n",
       "      <td>74</td>\n",
       "      <td>31</td>\n",
       "      <td>0</td>\n",
       "      <td>44.0</td>\n",
       "      <td>0.403</td>\n",
       "      <td>43</td>\n",
       "      <td>1</td>\n",
       "    </tr>\n",
       "    <tr>\n",
       "      <th>762</th>\n",
       "      <td>9</td>\n",
       "      <td>89</td>\n",
       "      <td>62</td>\n",
       "      <td>0</td>\n",
       "      <td>0</td>\n",
       "      <td>22.5</td>\n",
       "      <td>0.142</td>\n",
       "      <td>33</td>\n",
       "      <td>0</td>\n",
       "    </tr>\n",
       "    <tr>\n",
       "      <th>763</th>\n",
       "      <td>10</td>\n",
       "      <td>101</td>\n",
       "      <td>76</td>\n",
       "      <td>48</td>\n",
       "      <td>180</td>\n",
       "      <td>32.9</td>\n",
       "      <td>0.171</td>\n",
       "      <td>63</td>\n",
       "      <td>0</td>\n",
       "    </tr>\n",
       "    <tr>\n",
       "      <th>764</th>\n",
       "      <td>2</td>\n",
       "      <td>122</td>\n",
       "      <td>70</td>\n",
       "      <td>27</td>\n",
       "      <td>0</td>\n",
       "      <td>36.8</td>\n",
       "      <td>0.340</td>\n",
       "      <td>27</td>\n",
       "      <td>0</td>\n",
       "    </tr>\n",
       "    <tr>\n",
       "      <th>765</th>\n",
       "      <td>5</td>\n",
       "      <td>121</td>\n",
       "      <td>72</td>\n",
       "      <td>23</td>\n",
       "      <td>112</td>\n",
       "      <td>26.2</td>\n",
       "      <td>0.245</td>\n",
       "      <td>30</td>\n",
       "      <td>0</td>\n",
       "    </tr>\n",
       "    <tr>\n",
       "      <th>766</th>\n",
       "      <td>1</td>\n",
       "      <td>126</td>\n",
       "      <td>60</td>\n",
       "      <td>0</td>\n",
       "      <td>0</td>\n",
       "      <td>30.1</td>\n",
       "      <td>0.349</td>\n",
       "      <td>47</td>\n",
       "      <td>1</td>\n",
       "    </tr>\n",
       "    <tr>\n",
       "      <th>767</th>\n",
       "      <td>1</td>\n",
       "      <td>93</td>\n",
       "      <td>70</td>\n",
       "      <td>31</td>\n",
       "      <td>0</td>\n",
       "      <td>30.4</td>\n",
       "      <td>0.315</td>\n",
       "      <td>23</td>\n",
       "      <td>0</td>\n",
       "    </tr>\n",
       "  </tbody>\n",
       "</table>\n",
       "</div>"
      ],
      "text/plain": [
       "     Pregnancies  Glucose  BloodPressure  SkinThickness  Insulin   BMI  \\\n",
       "748            3      187             70             22      200  36.4   \n",
       "749            6      162             62              0        0  24.3   \n",
       "750            4      136             70              0        0  31.2   \n",
       "751            1      121             78             39       74  39.0   \n",
       "752            3      108             62             24        0  26.0   \n",
       "753            0      181             88             44      510  43.3   \n",
       "754            8      154             78             32        0  32.4   \n",
       "755            1      128             88             39      110  36.5   \n",
       "756            7      137             90             41        0  32.0   \n",
       "757            0      123             72              0        0  36.3   \n",
       "758            1      106             76              0        0  37.5   \n",
       "759            6      190             92              0        0  35.5   \n",
       "760            2       88             58             26       16  28.4   \n",
       "761            9      170             74             31        0  44.0   \n",
       "762            9       89             62              0        0  22.5   \n",
       "763           10      101             76             48      180  32.9   \n",
       "764            2      122             70             27        0  36.8   \n",
       "765            5      121             72             23      112  26.2   \n",
       "766            1      126             60              0        0  30.1   \n",
       "767            1       93             70             31        0  30.4   \n",
       "\n",
       "     DiabetesPedigreeFunction  Age  Outcome  \n",
       "748                     0.408   36        1  \n",
       "749                     0.178   50        1  \n",
       "750                     1.182   22        1  \n",
       "751                     0.261   28        0  \n",
       "752                     0.223   25        0  \n",
       "753                     0.222   26        1  \n",
       "754                     0.443   45        1  \n",
       "755                     1.057   37        1  \n",
       "756                     0.391   39        0  \n",
       "757                     0.258   52        1  \n",
       "758                     0.197   26        0  \n",
       "759                     0.278   66        1  \n",
       "760                     0.766   22        0  \n",
       "761                     0.403   43        1  \n",
       "762                     0.142   33        0  \n",
       "763                     0.171   63        0  \n",
       "764                     0.340   27        0  \n",
       "765                     0.245   30        0  \n",
       "766                     0.349   47        1  \n",
       "767                     0.315   23        0  "
      ]
     },
     "execution_count": 522,
     "metadata": {},
     "output_type": "execute_result"
    }
   ],
   "source": [
    "# Display the last 20 records\n",
    "# same as the head instead of 5 we insert 20 to get then last 20 records\n",
    "df.tail(20)"
   ]
  },
  {
   "cell_type": "code",
   "execution_count": 524,
   "id": "82f3aca9-b6ad-402a-9698-08ca1790b589",
   "metadata": {},
   "outputs": [
    {
     "data": {
      "text/html": [
       "<div>\n",
       "<style scoped>\n",
       "    .dataframe tbody tr th:only-of-type {\n",
       "        vertical-align: middle;\n",
       "    }\n",
       "\n",
       "    .dataframe tbody tr th {\n",
       "        vertical-align: top;\n",
       "    }\n",
       "\n",
       "    .dataframe thead th {\n",
       "        text-align: right;\n",
       "    }\n",
       "</style>\n",
       "<table border=\"1\" class=\"dataframe\">\n",
       "  <thead>\n",
       "    <tr style=\"text-align: right;\">\n",
       "      <th></th>\n",
       "      <th>Pregnancies</th>\n",
       "      <th>Glucose</th>\n",
       "      <th>BloodPressure</th>\n",
       "      <th>SkinThickness</th>\n",
       "      <th>Insulin</th>\n",
       "      <th>BMI</th>\n",
       "      <th>DiabetesPedigreeFunction</th>\n",
       "      <th>Age</th>\n",
       "      <th>Diagnosis</th>\n",
       "    </tr>\n",
       "  </thead>\n",
       "  <tbody>\n",
       "    <tr>\n",
       "      <th>0</th>\n",
       "      <td>6</td>\n",
       "      <td>148</td>\n",
       "      <td>72</td>\n",
       "      <td>35</td>\n",
       "      <td>0</td>\n",
       "      <td>33.6</td>\n",
       "      <td>0.627</td>\n",
       "      <td>50</td>\n",
       "      <td>1</td>\n",
       "    </tr>\n",
       "    <tr>\n",
       "      <th>1</th>\n",
       "      <td>1</td>\n",
       "      <td>85</td>\n",
       "      <td>66</td>\n",
       "      <td>29</td>\n",
       "      <td>0</td>\n",
       "      <td>26.6</td>\n",
       "      <td>0.351</td>\n",
       "      <td>31</td>\n",
       "      <td>0</td>\n",
       "    </tr>\n",
       "    <tr>\n",
       "      <th>2</th>\n",
       "      <td>8</td>\n",
       "      <td>183</td>\n",
       "      <td>64</td>\n",
       "      <td>0</td>\n",
       "      <td>0</td>\n",
       "      <td>23.3</td>\n",
       "      <td>0.672</td>\n",
       "      <td>32</td>\n",
       "      <td>1</td>\n",
       "    </tr>\n",
       "    <tr>\n",
       "      <th>3</th>\n",
       "      <td>1</td>\n",
       "      <td>89</td>\n",
       "      <td>66</td>\n",
       "      <td>23</td>\n",
       "      <td>94</td>\n",
       "      <td>28.1</td>\n",
       "      <td>0.167</td>\n",
       "      <td>21</td>\n",
       "      <td>0</td>\n",
       "    </tr>\n",
       "    <tr>\n",
       "      <th>4</th>\n",
       "      <td>0</td>\n",
       "      <td>137</td>\n",
       "      <td>40</td>\n",
       "      <td>35</td>\n",
       "      <td>168</td>\n",
       "      <td>43.1</td>\n",
       "      <td>2.288</td>\n",
       "      <td>33</td>\n",
       "      <td>1</td>\n",
       "    </tr>\n",
       "  </tbody>\n",
       "</table>\n",
       "</div>"
      ],
      "text/plain": [
       "   Pregnancies  Glucose  BloodPressure  SkinThickness  Insulin   BMI  \\\n",
       "0            6      148             72             35        0  33.6   \n",
       "1            1       85             66             29        0  26.6   \n",
       "2            8      183             64              0        0  23.3   \n",
       "3            1       89             66             23       94  28.1   \n",
       "4            0      137             40             35      168  43.1   \n",
       "\n",
       "   DiabetesPedigreeFunction  Age  Diagnosis  \n",
       "0                     0.627   50          1  \n",
       "1                     0.351   31          0  \n",
       "2                     0.672   32          1  \n",
       "3                     0.167   21          0  \n",
       "4                     2.288   33          1  "
      ]
     },
     "execution_count": 524,
     "metadata": {},
     "output_type": "execute_result"
    }
   ],
   "source": [
    "# Change the Outcome column to Diagnosis\n",
    "# when we want to change the name of the specific column of our dataframe\n",
    "# we use the rename fucntion then followed by columns in the dictionary format {'name of column' : 'name to change'}\n",
    "df = df.rename(columns = {'Outcome':'Diagnosis'})\n",
    "df.head()"
   ]
  },
  {
   "cell_type": "code",
   "execution_count": 526,
   "id": "72fd296c-426e-4d8d-8e63-aee76632efe4",
   "metadata": {},
   "outputs": [],
   "source": [
    "# Create a new column Classification that display \"Diabetes\" if the value of outcome is 1 , otherwise \"No Diabetes\"\n",
    "# to create another column named classification I use a list comprehension wherein I implement some condition\n",
    "# using the Diagnosis condition if the data is 1 I will insert Diabetes and if the data is 0 I will insert No diabetes\n",
    "df['Classification'] = [\"Diabetes\" if x == 1 else \"No Diabetes\" for x in df['Diagnosis']]"
   ]
  },
  {
   "cell_type": "code",
   "execution_count": 400,
   "id": "ede6186b-7a8b-407d-9b09-5becf8aa68a2",
   "metadata": {},
   "outputs": [
    {
     "data": {
      "text/html": [
       "<div>\n",
       "<style scoped>\n",
       "    .dataframe tbody tr th:only-of-type {\n",
       "        vertical-align: middle;\n",
       "    }\n",
       "\n",
       "    .dataframe tbody tr th {\n",
       "        vertical-align: top;\n",
       "    }\n",
       "\n",
       "    .dataframe thead th {\n",
       "        text-align: right;\n",
       "    }\n",
       "</style>\n",
       "<table border=\"1\" class=\"dataframe\">\n",
       "  <thead>\n",
       "    <tr style=\"text-align: right;\">\n",
       "      <th></th>\n",
       "      <th>Pregnancies</th>\n",
       "      <th>Glucose</th>\n",
       "      <th>BloodPressure</th>\n",
       "      <th>SkinThickness</th>\n",
       "      <th>Insulin</th>\n",
       "      <th>BMI</th>\n",
       "      <th>DiabetesPedigreeFunction</th>\n",
       "      <th>Age</th>\n",
       "      <th>Diagnosis</th>\n",
       "      <th>Classification</th>\n",
       "    </tr>\n",
       "  </thead>\n",
       "  <tbody>\n",
       "    <tr>\n",
       "      <th>0</th>\n",
       "      <td>6</td>\n",
       "      <td>148</td>\n",
       "      <td>72</td>\n",
       "      <td>35</td>\n",
       "      <td>0</td>\n",
       "      <td>33.6</td>\n",
       "      <td>0.627</td>\n",
       "      <td>50</td>\n",
       "      <td>1</td>\n",
       "      <td>Diabetes</td>\n",
       "    </tr>\n",
       "    <tr>\n",
       "      <th>1</th>\n",
       "      <td>1</td>\n",
       "      <td>85</td>\n",
       "      <td>66</td>\n",
       "      <td>29</td>\n",
       "      <td>0</td>\n",
       "      <td>26.6</td>\n",
       "      <td>0.351</td>\n",
       "      <td>31</td>\n",
       "      <td>0</td>\n",
       "      <td>No Diabetes</td>\n",
       "    </tr>\n",
       "    <tr>\n",
       "      <th>2</th>\n",
       "      <td>8</td>\n",
       "      <td>183</td>\n",
       "      <td>64</td>\n",
       "      <td>0</td>\n",
       "      <td>0</td>\n",
       "      <td>23.3</td>\n",
       "      <td>0.672</td>\n",
       "      <td>32</td>\n",
       "      <td>1</td>\n",
       "      <td>Diabetes</td>\n",
       "    </tr>\n",
       "    <tr>\n",
       "      <th>3</th>\n",
       "      <td>1</td>\n",
       "      <td>89</td>\n",
       "      <td>66</td>\n",
       "      <td>23</td>\n",
       "      <td>94</td>\n",
       "      <td>28.1</td>\n",
       "      <td>0.167</td>\n",
       "      <td>21</td>\n",
       "      <td>0</td>\n",
       "      <td>No Diabetes</td>\n",
       "    </tr>\n",
       "    <tr>\n",
       "      <th>4</th>\n",
       "      <td>0</td>\n",
       "      <td>137</td>\n",
       "      <td>40</td>\n",
       "      <td>35</td>\n",
       "      <td>168</td>\n",
       "      <td>43.1</td>\n",
       "      <td>2.288</td>\n",
       "      <td>33</td>\n",
       "      <td>1</td>\n",
       "      <td>Diabetes</td>\n",
       "    </tr>\n",
       "  </tbody>\n",
       "</table>\n",
       "</div>"
      ],
      "text/plain": [
       "   Pregnancies  Glucose  BloodPressure  SkinThickness  Insulin   BMI  \\\n",
       "0            6      148             72             35        0  33.6   \n",
       "1            1       85             66             29        0  26.6   \n",
       "2            8      183             64              0        0  23.3   \n",
       "3            1       89             66             23       94  28.1   \n",
       "4            0      137             40             35      168  43.1   \n",
       "\n",
       "   DiabetesPedigreeFunction  Age  Diagnosis Classification  \n",
       "0                     0.627   50          1       Diabetes  \n",
       "1                     0.351   31          0    No Diabetes  \n",
       "2                     0.672   32          1       Diabetes  \n",
       "3                     0.167   21          0    No Diabetes  \n",
       "4                     2.288   33          1       Diabetes  "
      ]
     },
     "execution_count": 400,
     "metadata": {},
     "output_type": "execute_result"
    }
   ],
   "source": [
    "df.head()"
   ]
  },
  {
   "cell_type": "code",
   "execution_count": 528,
   "id": "13e28af1-4729-4e7e-87b9-718ef2f0384f",
   "metadata": {},
   "outputs": [],
   "source": [
    "# Create a new dataframe \"withDiabetes\" that gathers data with diabetes\n",
    "# here we create a new dataframe where we only gathered the rows from our original dataframe that has a diabetes in the column Classification\n",
    "withDiabetes = df[df['Classification'] == 'Diabetes']"
   ]
  },
  {
   "cell_type": "code",
   "execution_count": 406,
   "id": "4d2053d0-cf22-4de1-8a3f-8f32bfa16eae",
   "metadata": {},
   "outputs": [
    {
     "data": {
      "text/html": [
       "<div>\n",
       "<style scoped>\n",
       "    .dataframe tbody tr th:only-of-type {\n",
       "        vertical-align: middle;\n",
       "    }\n",
       "\n",
       "    .dataframe tbody tr th {\n",
       "        vertical-align: top;\n",
       "    }\n",
       "\n",
       "    .dataframe thead th {\n",
       "        text-align: right;\n",
       "    }\n",
       "</style>\n",
       "<table border=\"1\" class=\"dataframe\">\n",
       "  <thead>\n",
       "    <tr style=\"text-align: right;\">\n",
       "      <th></th>\n",
       "      <th>Pregnancies</th>\n",
       "      <th>Glucose</th>\n",
       "      <th>BloodPressure</th>\n",
       "      <th>SkinThickness</th>\n",
       "      <th>Insulin</th>\n",
       "      <th>BMI</th>\n",
       "      <th>DiabetesPedigreeFunction</th>\n",
       "      <th>Age</th>\n",
       "      <th>Diagnosis</th>\n",
       "      <th>Classification</th>\n",
       "    </tr>\n",
       "  </thead>\n",
       "  <tbody>\n",
       "    <tr>\n",
       "      <th>0</th>\n",
       "      <td>6</td>\n",
       "      <td>148</td>\n",
       "      <td>72</td>\n",
       "      <td>35</td>\n",
       "      <td>0</td>\n",
       "      <td>33.6</td>\n",
       "      <td>0.627</td>\n",
       "      <td>50</td>\n",
       "      <td>1</td>\n",
       "      <td>Diabetes</td>\n",
       "    </tr>\n",
       "    <tr>\n",
       "      <th>2</th>\n",
       "      <td>8</td>\n",
       "      <td>183</td>\n",
       "      <td>64</td>\n",
       "      <td>0</td>\n",
       "      <td>0</td>\n",
       "      <td>23.3</td>\n",
       "      <td>0.672</td>\n",
       "      <td>32</td>\n",
       "      <td>1</td>\n",
       "      <td>Diabetes</td>\n",
       "    </tr>\n",
       "    <tr>\n",
       "      <th>4</th>\n",
       "      <td>0</td>\n",
       "      <td>137</td>\n",
       "      <td>40</td>\n",
       "      <td>35</td>\n",
       "      <td>168</td>\n",
       "      <td>43.1</td>\n",
       "      <td>2.288</td>\n",
       "      <td>33</td>\n",
       "      <td>1</td>\n",
       "      <td>Diabetes</td>\n",
       "    </tr>\n",
       "    <tr>\n",
       "      <th>6</th>\n",
       "      <td>3</td>\n",
       "      <td>78</td>\n",
       "      <td>50</td>\n",
       "      <td>32</td>\n",
       "      <td>88</td>\n",
       "      <td>31.0</td>\n",
       "      <td>0.248</td>\n",
       "      <td>26</td>\n",
       "      <td>1</td>\n",
       "      <td>Diabetes</td>\n",
       "    </tr>\n",
       "    <tr>\n",
       "      <th>8</th>\n",
       "      <td>2</td>\n",
       "      <td>197</td>\n",
       "      <td>70</td>\n",
       "      <td>45</td>\n",
       "      <td>543</td>\n",
       "      <td>30.5</td>\n",
       "      <td>0.158</td>\n",
       "      <td>53</td>\n",
       "      <td>1</td>\n",
       "      <td>Diabetes</td>\n",
       "    </tr>\n",
       "  </tbody>\n",
       "</table>\n",
       "</div>"
      ],
      "text/plain": [
       "   Pregnancies  Glucose  BloodPressure  SkinThickness  Insulin   BMI  \\\n",
       "0            6      148             72             35        0  33.6   \n",
       "2            8      183             64              0        0  23.3   \n",
       "4            0      137             40             35      168  43.1   \n",
       "6            3       78             50             32       88  31.0   \n",
       "8            2      197             70             45      543  30.5   \n",
       "\n",
       "   DiabetesPedigreeFunction  Age  Diagnosis Classification  \n",
       "0                     0.627   50          1       Diabetes  \n",
       "2                     0.672   32          1       Diabetes  \n",
       "4                     2.288   33          1       Diabetes  \n",
       "6                     0.248   26          1       Diabetes  \n",
       "8                     0.158   53          1       Diabetes  "
      ]
     },
     "execution_count": 406,
     "metadata": {},
     "output_type": "execute_result"
    }
   ],
   "source": [
    "withDiabetes.head()"
   ]
  },
  {
   "cell_type": "code",
   "execution_count": 530,
   "id": "9986508d-d73d-41c9-a5e4-2943b6a1d912",
   "metadata": {},
   "outputs": [],
   "source": [
    "# Create a new dataframe \"noDiabetes\" thats gathers data with no diabetes\n",
    "# we create a new data frame that has a No Diabetes in their classification column\n",
    "noDiabetes = df[df['Classification'] == 'No Diabetes']"
   ]
  },
  {
   "cell_type": "code",
   "execution_count": 410,
   "id": "3b17e108-b74b-4034-98c3-796f4be9c7f1",
   "metadata": {},
   "outputs": [
    {
     "data": {
      "text/html": [
       "<div>\n",
       "<style scoped>\n",
       "    .dataframe tbody tr th:only-of-type {\n",
       "        vertical-align: middle;\n",
       "    }\n",
       "\n",
       "    .dataframe tbody tr th {\n",
       "        vertical-align: top;\n",
       "    }\n",
       "\n",
       "    .dataframe thead th {\n",
       "        text-align: right;\n",
       "    }\n",
       "</style>\n",
       "<table border=\"1\" class=\"dataframe\">\n",
       "  <thead>\n",
       "    <tr style=\"text-align: right;\">\n",
       "      <th></th>\n",
       "      <th>Pregnancies</th>\n",
       "      <th>Glucose</th>\n",
       "      <th>BloodPressure</th>\n",
       "      <th>SkinThickness</th>\n",
       "      <th>Insulin</th>\n",
       "      <th>BMI</th>\n",
       "      <th>DiabetesPedigreeFunction</th>\n",
       "      <th>Age</th>\n",
       "      <th>Diagnosis</th>\n",
       "      <th>Classification</th>\n",
       "    </tr>\n",
       "  </thead>\n",
       "  <tbody>\n",
       "    <tr>\n",
       "      <th>1</th>\n",
       "      <td>1</td>\n",
       "      <td>85</td>\n",
       "      <td>66</td>\n",
       "      <td>29</td>\n",
       "      <td>0</td>\n",
       "      <td>26.6</td>\n",
       "      <td>0.351</td>\n",
       "      <td>31</td>\n",
       "      <td>0</td>\n",
       "      <td>No Diabetes</td>\n",
       "    </tr>\n",
       "    <tr>\n",
       "      <th>3</th>\n",
       "      <td>1</td>\n",
       "      <td>89</td>\n",
       "      <td>66</td>\n",
       "      <td>23</td>\n",
       "      <td>94</td>\n",
       "      <td>28.1</td>\n",
       "      <td>0.167</td>\n",
       "      <td>21</td>\n",
       "      <td>0</td>\n",
       "      <td>No Diabetes</td>\n",
       "    </tr>\n",
       "    <tr>\n",
       "      <th>5</th>\n",
       "      <td>5</td>\n",
       "      <td>116</td>\n",
       "      <td>74</td>\n",
       "      <td>0</td>\n",
       "      <td>0</td>\n",
       "      <td>25.6</td>\n",
       "      <td>0.201</td>\n",
       "      <td>30</td>\n",
       "      <td>0</td>\n",
       "      <td>No Diabetes</td>\n",
       "    </tr>\n",
       "    <tr>\n",
       "      <th>7</th>\n",
       "      <td>10</td>\n",
       "      <td>115</td>\n",
       "      <td>0</td>\n",
       "      <td>0</td>\n",
       "      <td>0</td>\n",
       "      <td>35.3</td>\n",
       "      <td>0.134</td>\n",
       "      <td>29</td>\n",
       "      <td>0</td>\n",
       "      <td>No Diabetes</td>\n",
       "    </tr>\n",
       "    <tr>\n",
       "      <th>10</th>\n",
       "      <td>4</td>\n",
       "      <td>110</td>\n",
       "      <td>92</td>\n",
       "      <td>0</td>\n",
       "      <td>0</td>\n",
       "      <td>37.6</td>\n",
       "      <td>0.191</td>\n",
       "      <td>30</td>\n",
       "      <td>0</td>\n",
       "      <td>No Diabetes</td>\n",
       "    </tr>\n",
       "  </tbody>\n",
       "</table>\n",
       "</div>"
      ],
      "text/plain": [
       "    Pregnancies  Glucose  BloodPressure  SkinThickness  Insulin   BMI  \\\n",
       "1             1       85             66             29        0  26.6   \n",
       "3             1       89             66             23       94  28.1   \n",
       "5             5      116             74              0        0  25.6   \n",
       "7            10      115              0              0        0  35.3   \n",
       "10            4      110             92              0        0  37.6   \n",
       "\n",
       "    DiabetesPedigreeFunction  Age  Diagnosis Classification  \n",
       "1                      0.351   31          0    No Diabetes  \n",
       "3                      0.167   21          0    No Diabetes  \n",
       "5                      0.201   30          0    No Diabetes  \n",
       "7                      0.134   29          0    No Diabetes  \n",
       "10                     0.191   30          0    No Diabetes  "
      ]
     },
     "execution_count": 410,
     "metadata": {},
     "output_type": "execute_result"
    }
   ],
   "source": [
    "noDiabetes.head()"
   ]
  },
  {
   "cell_type": "code",
   "execution_count": 422,
   "id": "3f5a3207-5992-45e9-8881-68f3ed844a12",
   "metadata": {},
   "outputs": [],
   "source": [
    "# Create a new dataframe \"Pedia\" that gathers data with age 0 to 19\n",
    "Pedia = df[df['Age'] <= 19]"
   ]
  },
  {
   "cell_type": "code",
   "execution_count": 424,
   "id": "7289a398-7414-48f9-97b8-349e497e9ca2",
   "metadata": {},
   "outputs": [
    {
     "data": {
      "text/html": [
       "<div>\n",
       "<style scoped>\n",
       "    .dataframe tbody tr th:only-of-type {\n",
       "        vertical-align: middle;\n",
       "    }\n",
       "\n",
       "    .dataframe tbody tr th {\n",
       "        vertical-align: top;\n",
       "    }\n",
       "\n",
       "    .dataframe thead th {\n",
       "        text-align: right;\n",
       "    }\n",
       "</style>\n",
       "<table border=\"1\" class=\"dataframe\">\n",
       "  <thead>\n",
       "    <tr style=\"text-align: right;\">\n",
       "      <th></th>\n",
       "      <th>Pregnancies</th>\n",
       "      <th>Glucose</th>\n",
       "      <th>BloodPressure</th>\n",
       "      <th>SkinThickness</th>\n",
       "      <th>Insulin</th>\n",
       "      <th>BMI</th>\n",
       "      <th>DiabetesPedigreeFunction</th>\n",
       "      <th>Age</th>\n",
       "      <th>Diagnosis</th>\n",
       "      <th>Classification</th>\n",
       "    </tr>\n",
       "  </thead>\n",
       "  <tbody>\n",
       "  </tbody>\n",
       "</table>\n",
       "</div>"
      ],
      "text/plain": [
       "Empty DataFrame\n",
       "Columns: [Pregnancies, Glucose, BloodPressure, SkinThickness, Insulin, BMI, DiabetesPedigreeFunction, Age, Diagnosis, Classification]\n",
       "Index: []"
      ]
     },
     "execution_count": 424,
     "metadata": {},
     "output_type": "execute_result"
    }
   ],
   "source": [
    "Pedia.head()"
   ]
  },
  {
   "cell_type": "code",
   "execution_count": 428,
   "id": "b6b3c490-3264-4c2e-a5b6-5e3805212f58",
   "metadata": {},
   "outputs": [],
   "source": [
    "# Create a new dataframe \"Adult\" that gathers data with age greater than 19\n",
    "\n",
    "Adult = df[df['Age'] > 19]"
   ]
  },
  {
   "cell_type": "code",
   "execution_count": 430,
   "id": "b5193063-1cab-4cd0-afd3-53cdd07cd9a7",
   "metadata": {},
   "outputs": [
    {
     "data": {
      "text/html": [
       "<div>\n",
       "<style scoped>\n",
       "    .dataframe tbody tr th:only-of-type {\n",
       "        vertical-align: middle;\n",
       "    }\n",
       "\n",
       "    .dataframe tbody tr th {\n",
       "        vertical-align: top;\n",
       "    }\n",
       "\n",
       "    .dataframe thead th {\n",
       "        text-align: right;\n",
       "    }\n",
       "</style>\n",
       "<table border=\"1\" class=\"dataframe\">\n",
       "  <thead>\n",
       "    <tr style=\"text-align: right;\">\n",
       "      <th></th>\n",
       "      <th>Pregnancies</th>\n",
       "      <th>Glucose</th>\n",
       "      <th>BloodPressure</th>\n",
       "      <th>SkinThickness</th>\n",
       "      <th>Insulin</th>\n",
       "      <th>BMI</th>\n",
       "      <th>DiabetesPedigreeFunction</th>\n",
       "      <th>Age</th>\n",
       "      <th>Diagnosis</th>\n",
       "      <th>Classification</th>\n",
       "    </tr>\n",
       "  </thead>\n",
       "  <tbody>\n",
       "    <tr>\n",
       "      <th>0</th>\n",
       "      <td>6</td>\n",
       "      <td>148</td>\n",
       "      <td>72</td>\n",
       "      <td>35</td>\n",
       "      <td>0</td>\n",
       "      <td>33.6</td>\n",
       "      <td>0.627</td>\n",
       "      <td>50</td>\n",
       "      <td>1</td>\n",
       "      <td>Diabetes</td>\n",
       "    </tr>\n",
       "    <tr>\n",
       "      <th>1</th>\n",
       "      <td>1</td>\n",
       "      <td>85</td>\n",
       "      <td>66</td>\n",
       "      <td>29</td>\n",
       "      <td>0</td>\n",
       "      <td>26.6</td>\n",
       "      <td>0.351</td>\n",
       "      <td>31</td>\n",
       "      <td>0</td>\n",
       "      <td>No Diabetes</td>\n",
       "    </tr>\n",
       "    <tr>\n",
       "      <th>2</th>\n",
       "      <td>8</td>\n",
       "      <td>183</td>\n",
       "      <td>64</td>\n",
       "      <td>0</td>\n",
       "      <td>0</td>\n",
       "      <td>23.3</td>\n",
       "      <td>0.672</td>\n",
       "      <td>32</td>\n",
       "      <td>1</td>\n",
       "      <td>Diabetes</td>\n",
       "    </tr>\n",
       "    <tr>\n",
       "      <th>3</th>\n",
       "      <td>1</td>\n",
       "      <td>89</td>\n",
       "      <td>66</td>\n",
       "      <td>23</td>\n",
       "      <td>94</td>\n",
       "      <td>28.1</td>\n",
       "      <td>0.167</td>\n",
       "      <td>21</td>\n",
       "      <td>0</td>\n",
       "      <td>No Diabetes</td>\n",
       "    </tr>\n",
       "    <tr>\n",
       "      <th>4</th>\n",
       "      <td>0</td>\n",
       "      <td>137</td>\n",
       "      <td>40</td>\n",
       "      <td>35</td>\n",
       "      <td>168</td>\n",
       "      <td>43.1</td>\n",
       "      <td>2.288</td>\n",
       "      <td>33</td>\n",
       "      <td>1</td>\n",
       "      <td>Diabetes</td>\n",
       "    </tr>\n",
       "  </tbody>\n",
       "</table>\n",
       "</div>"
      ],
      "text/plain": [
       "   Pregnancies  Glucose  BloodPressure  SkinThickness  Insulin   BMI  \\\n",
       "0            6      148             72             35        0  33.6   \n",
       "1            1       85             66             29        0  26.6   \n",
       "2            8      183             64              0        0  23.3   \n",
       "3            1       89             66             23       94  28.1   \n",
       "4            0      137             40             35      168  43.1   \n",
       "\n",
       "   DiabetesPedigreeFunction  Age  Diagnosis Classification  \n",
       "0                     0.627   50          1       Diabetes  \n",
       "1                     0.351   31          0    No Diabetes  \n",
       "2                     0.672   32          1       Diabetes  \n",
       "3                     0.167   21          0    No Diabetes  \n",
       "4                     2.288   33          1       Diabetes  "
      ]
     },
     "execution_count": 430,
     "metadata": {},
     "output_type": "execute_result"
    }
   ],
   "source": [
    "Adult.head()"
   ]
  },
  {
   "cell_type": "code",
   "execution_count": 532,
   "id": "d69fd5d9-36a7-464a-b8a9-7d68bd18607b",
   "metadata": {},
   "outputs": [
    {
     "name": "stdout",
     "output_type": "stream",
     "text": [
      "[ 33.24088542 120.89453125]\n"
     ]
    }
   ],
   "source": [
    "# Use numpy to get the average age and glucose value.\n",
    "# The first thing I do is to sort the value in ascending order before creating statistical analysis\n",
    "df.sort_values(['Age','Glucose'], ascending = [True,True], inplace = True)\n",
    "\n",
    "#in this task using the numpy we get the average of column Age and Glucose in our dataframe\n",
    "average_sugar = np.average(df[['Age','Glucose']],axis = 0)\n",
    "print(average_sugar)"
   ]
  },
  {
   "cell_type": "code",
   "execution_count": 534,
   "id": "e5876f0c-e104-4658-bf3a-dcf3a6dbe2a2",
   "metadata": {},
   "outputs": [
    {
     "data": {
      "text/plain": [
       "Age         33.240885\n",
       "Glucose    120.894531\n",
       "dtype: float64"
      ]
     },
     "execution_count": 534,
     "metadata": {},
     "output_type": "execute_result"
    }
   ],
   "source": [
    "# Using the pandas function we verify if the answers are the same\n",
    "df[['Age','Glucose']].mean()"
   ]
  },
  {
   "cell_type": "code",
   "execution_count": 536,
   "id": "0d6c84e4-3543-4044-924a-a8ddeaa65457",
   "metadata": {},
   "outputs": [
    {
     "name": "stdout",
     "output_type": "stream",
     "text": [
      "[ 29. 117.]\n"
     ]
    }
   ],
   "source": [
    "# Use numpy to get the median age and glucose value.\n",
    "#using the numpy module we get the middle value or the median of the columns Age and Glucose\n",
    "median_sugar = np.median(df[['Age','Glucose']],axis = 0)\n",
    "print(median_sugar)"
   ]
  },
  {
   "cell_type": "code",
   "execution_count": 546,
   "id": "89c3afdb-0b1b-4f21-bc0a-63344b7cbe50",
   "metadata": {},
   "outputs": [
    {
     "data": {
      "text/plain": [
       "Age         29.0\n",
       "Glucose    117.0\n",
       "dtype: float64"
      ]
     },
     "execution_count": 546,
     "metadata": {},
     "output_type": "execute_result"
    }
   ],
   "source": [
    "# Using the pandas function we verify if the answers are the same\n",
    "df[['Age','Glucose']].median()"
   ]
  },
  {
   "cell_type": "code",
   "execution_count": 540,
   "id": "ca6337e5-bab2-448a-a329-0d8c9a6cf14c",
   "metadata": {},
   "outputs": [
    {
     "data": {
      "text/plain": [
       "array([117.,  29.])"
      ]
     },
     "execution_count": 540,
     "metadata": {},
     "output_type": "execute_result"
    }
   ],
   "source": [
    "# # Use numpy to get the middle values of glucose and age.\n",
    "# Using the numpy module we get the Middle value of the columns Glucose and Age\n",
    "# since we use the median function now I tried to do the 50 percentile to check for the middle  value\n",
    "middle_val = np.quantile(df[['Glucose','Age']],0.5,axis = 0)\n",
    "middle_val"
   ]
  },
  {
   "cell_type": "code",
   "execution_count": 544,
   "id": "86b2ffdf-c903-4730-a021-5152142a4f60",
   "metadata": {},
   "outputs": [
    {
     "data": {
      "text/plain": [
       "Glucose    117.0\n",
       "Age         29.0\n",
       "Name: 0.5, dtype: float64"
      ]
     },
     "execution_count": 544,
     "metadata": {},
     "output_type": "execute_result"
    }
   ],
   "source": [
    "# Using the pandas function we verify if the answers are the same\n",
    "df[['Glucose','Age']].quantile(0.5)"
   ]
  },
  {
   "cell_type": "code",
   "execution_count": 506,
   "id": "7289090f-7c1b-4390-980f-f5aba83a4a69",
   "metadata": {},
   "outputs": [
    {
     "data": {
      "text/plain": [
       "15.941828626496989"
      ]
     },
     "execution_count": 506,
     "metadata": {},
     "output_type": "execute_result"
    }
   ],
   "source": [
    "# Use numpy to get the standard deviation of the skinthickness.\n",
    "\n",
    "# using the numpy module I tried to get the\n",
    "stdev = np.std(df['SkinThickness'])\n",
    "stdev"
   ]
  },
  {
   "cell_type": "markdown",
   "id": "d3d24278-28fb-47ef-beaf-de9c761b9d81",
   "metadata": {},
   "source": [
    "<font size = 6><b> 6.4 Conclusion</b> </font>"
   ]
  },
  {
   "cell_type": "markdown",
   "id": "439660e1-0d90-408c-b645-b0453aeb667a",
   "metadata": {},
   "source": [
    "Throughout this activity, I have learned about the different methods of data analysis and the different tools used for analysis. I used a variety of Python modules, including pandas, numpy, and statistics, but first learned how to perform analysis without them. I consider it a major plus that the modules speed up working because one need not spend time building one's own function for a specific statistic. The statistics module is very handy when dealing with different types of statistical analysis, while its Syntax is very simple. I can state that Python Pandandas is a flexible and very powerful module for dataframe analysis due to its large collection of data/file analysis methods. During this exercise, I applied quite a number of those methods to create dataframes, to access and modify dataframes, and to do statistical analysis with the help of the numpy module."
   ]
  },
  {
   "cell_type": "code",
   "execution_count": null,
   "id": "e2618954-2a68-4693-a26c-899e2d547e7f",
   "metadata": {},
   "outputs": [],
   "source": []
  }
 ],
 "metadata": {
  "kernelspec": {
   "display_name": "Python [conda env:base] *",
   "language": "python",
   "name": "conda-base-py"
  },
  "language_info": {
   "codemirror_mode": {
    "name": "ipython",
    "version": 3
   },
   "file_extension": ".py",
   "mimetype": "text/x-python",
   "name": "python",
   "nbconvert_exporter": "python",
   "pygments_lexer": "ipython3",
   "version": "3.12.7"
  }
 },
 "nbformat": 4,
 "nbformat_minor": 5
}
